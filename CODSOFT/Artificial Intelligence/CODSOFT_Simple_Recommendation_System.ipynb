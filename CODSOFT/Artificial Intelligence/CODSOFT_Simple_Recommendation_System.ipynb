{
  "nbformat": 4,
  "nbformat_minor": 0,
  "metadata": {
    "colab": {
      "provenance": [],
      "authorship_tag": "ABX9TyPDBmCw6NsMBc0qTF+2Q5aY",
      "include_colab_link": true
    },
    "kernelspec": {
      "name": "python3",
      "display_name": "Python 3"
    },
    "language_info": {
      "name": "python"
    }
  },
  "cells": [
    {
      "cell_type": "markdown",
      "metadata": {
        "id": "view-in-github",
        "colab_type": "text"
      },
      "source": [
        "<a href=\"https://colab.research.google.com/github/anjha1/Project/blob/main/CODSOFT_Simple_Recommendation_System.ipynb\" target=\"_parent\"><img src=\"https://colab.research.google.com/assets/colab-badge.svg\" alt=\"Open In Colab\"/></a>"
      ]
    },
    {
      "cell_type": "markdown",
      "source": [
        "\n",
        "\n",
        "```\n",
        "                                                                   CODSOFT\n",
        "```\n",
        "\n"
      ],
      "metadata": {
        "id": "uUg2Xl6mZI0g"
      }
    },
    {
      "cell_type": "markdown",
      "source": [
        "**Name: Achhuta Nand Jha**"
      ],
      "metadata": {
        "id": "-gBF4BsYY9FT"
      }
    },
    {
      "cell_type": "markdown",
      "source": [
        "**Project Description: Simple Recommendation System**"
      ],
      "metadata": {
        "id": "lNNn0PtPjFz8"
      }
    },
    {
      "cell_type": "markdown",
      "source": [
        "**Overview**\n",
        "> This project involves creating a simple recommendation system that suggests items to users based on their preferences. Using techniques like collaborative filtering or content-based filtering, the system can recommend movies, books, or products. This project introduces the concepts and methodologies behind recommendation systems, providing practical experience in implementing and evaluating such systems.\n",
        "\n"
      ],
      "metadata": {
        "id": "AHaz_F5ujFwb"
      }
    },
    {
      "cell_type": "markdown",
      "source": [
        "**Objectives**\n",
        "\n",
        "*   Develop a recommendation system that suggests items based on user preferences.\n",
        "\n",
        "*   Implement collaborative filtering and/or content-based filtering techniques.\n",
        "*   Provide recommendations for movies, books, or products.\n",
        "\n",
        "\n",
        "*   Enhance understanding of recommendation algorithms and their applications.\n",
        "\n"
      ],
      "metadata": {
        "id": "5AMJXR8HjFPB"
      }
    },
    {
      "cell_type": "markdown",
      "source": [
        "**Features**\n",
        "\n",
        "*   User Preferences Input: Collect user preferences or ratings for a set of items\n",
        "\n",
        "*   Recommendation Generation: Generate a list of recommended items based on the collected preferences.\n",
        "*   Collaborative Filtering: Use user-item interaction data to find similar users and recommend items they liked.\n",
        "\n",
        "\n",
        "*   Content-Based Filtering: Use item features to recommend similar items to those the user liked\n",
        "\n"
      ],
      "metadata": {
        "id": "ss_yodZpjFL-"
      }
    },
    {
      "cell_type": "markdown",
      "source": [
        "**Functionality**\n",
        "\n",
        "\n",
        "*   **Data Collection:** Gather user ratings or preferences for various items.\n",
        "\n",
        "*   **Similarity Calculation:** Calculate similarity between users (collaborative filtering) or items (content-based filtering).\n",
        "*   **Recommendation Generation:** Generate and present a list of recommended items.\n",
        "\n",
        "\n",
        "\n"
      ],
      "metadata": {
        "id": "y8EcUGWajFJq"
      }
    },
    {
      "cell_type": "markdown",
      "source": [
        "**Collaborative Filtering**\n",
        "> Collaborative filtering relies on the idea that users with similar preferences will like similar items. There are two main types:\n",
        "\n",
        "*   **User-Based Collaborative Filtering:** Finds users similar to the target user and recommends items they liked.\n",
        "\n",
        "*   **Item-Based Collaborative Filtering:** Finds items similar to those the target user liked and recommends them.\n",
        "\n",
        "\n"
      ],
      "metadata": {
        "id": "XwiSU8PDjFG0"
      }
    },
    {
      "cell_type": "markdown",
      "source": [
        "**Content-Based Filtering**\n",
        "> Content-based filtering uses item features to recommend items similar to those the user liked. It involves:\n",
        "\n",
        "*   **Feature Extraction:** Extracting features from items.\n",
        "\n",
        "*   **Similarity Calculation:** Calculating similarity between items based on their features.\n",
        "\n"
      ],
      "metadata": {
        "id": "C9sRf9DNjFEG"
      }
    },
    {
      "cell_type": "markdown",
      "source": [
        "\n",
        "\n",
        "---\n",
        "\n",
        "\n",
        "\n",
        "---\n",
        "\n",
        "\n",
        "\n",
        "---\n",
        "\n"
      ],
      "metadata": {
        "id": "-kPg1xEMkznl"
      }
    },
    {
      "cell_type": "markdown",
      "source": [
        ".\n"
      ],
      "metadata": {
        "id": "Gvt9hZYvkxVq"
      }
    },
    {
      "cell_type": "markdown",
      "source": [
        "."
      ],
      "metadata": {
        "id": "9udAOXrjjE-7"
      }
    },
    {
      "cell_type": "markdown",
      "source": [
        "\n",
        "\n",
        "---\n",
        "\n",
        "\n",
        "\n",
        "---\n",
        "\n",
        "\n",
        "\n",
        "---\n",
        "\n"
      ],
      "metadata": {
        "id": "eHrOLz8fjE74"
      }
    },
    {
      "cell_type": "code",
      "execution_count": 5,
      "metadata": {
        "colab": {
          "base_uri": "https://localhost:8080/"
        },
        "id": "zx98bPH1ipPT",
        "outputId": "ae5568fa-65f4-4c15-ca9f-ee1bec9170ab"
      },
      "outputs": [
        {
          "output_type": "stream",
          "name": "stdout",
          "text": [
            "Enter the user_id 1\n",
            "Recommendations for User 1:\n",
            "          Movie  Weighted Rating\n",
            "4  Pulp Fiction         2.516105\n"
          ]
        }
      ],
      "source": [
        "import numpy as np\n",
        "import pandas as pd\n",
        "from sklearn.metrics.pairwise import cosine_similarity\n",
        "from sklearn.impute import SimpleImputer\n",
        "\n",
        "ratings_data = {\n",
        "    'User': [1, 2, 3, 4, 5],\n",
        "    'The Matrix': [5, 4, np.nan, 2, 1],\n",
        "    'Titanic': [3, 2, 4, 5, 1],\n",
        "    'The Godfather': [4, 5, np.nan, 3, 2],\n",
        "    'Inception': [5, np.nan, 4, 3, 1],\n",
        "    'Pulp Fiction': [np.nan, 3, 4, 2, 1]\n",
        "}\n",
        "\n",
        "df = pd.DataFrame(ratings_data)\n",
        "df.set_index('User', inplace=True)\n",
        "\n",
        "imputer = SimpleImputer(strategy='mean')\n",
        "ratings_matrix = imputer.fit_transform(df)\n",
        "\n",
        "user_similarity = cosine_similarity(ratings_matrix)\n",
        "\n",
        "user_similarity_df = pd.DataFrame(user_similarity, index=df.index, columns=df.index)\n",
        "\n",
        "def get_recommendations(user_id, num_recommendations=3):\n",
        "    user_idx = df.index.get_loc(user_id)\n",
        "    similarity_scores = user_similarity[user_idx]\n",
        "    weighted_ratings = np.dot(similarity_scores, ratings_matrix) / np.sum(similarity_scores)\n",
        "    weighted_ratings_df = pd.DataFrame({'Movie': df.columns, 'Weighted Rating': weighted_ratings})\n",
        "    rated_movies = df.loc[user_id].notna()\n",
        "    weighted_ratings_df = weighted_ratings_df[~rated_movies.values]\n",
        "    recommendations = weighted_ratings_df.sort_values(by='Weighted Rating', ascending=False)\n",
        "    return recommendations.head(num_recommendations)\n",
        "\n",
        "user_id =int(input(\"Enter the user_id \"))\n",
        "recommendations = get_recommendations(user_id)\n",
        "\n",
        "print(f\"Recommendations for User {user_id}:\")\n",
        "print(recommendations)\n"
      ]
    },
    {
      "cell_type": "markdown",
      "source": [
        "**Conclusion**\n",
        "> This project demonstrates a simple recommendation system using collaborative filtering. By understanding and implementing user-based collaborative filtering, you gain insights into how recommendation systems operate and how they can be enhanced for better performance."
      ],
      "metadata": {
        "id": "PYPQizqok2hs"
      }
    }
  ]
}
