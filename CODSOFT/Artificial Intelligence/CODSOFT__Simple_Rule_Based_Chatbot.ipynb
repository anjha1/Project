{
  "nbformat": 4,
  "nbformat_minor": 0,
  "metadata": {
    "colab": {
      "provenance": [],
      "authorship_tag": "ABX9TyOwBb7ZfB1am8f7re03EyHA",
      "include_colab_link": true
    },
    "kernelspec": {
      "name": "python3",
      "display_name": "Python 3"
    },
    "language_info": {
      "name": "python"
    }
  },
  "cells": [
    {
      "cell_type": "markdown",
      "metadata": {
        "id": "view-in-github",
        "colab_type": "text"
      },
      "source": [
        "<a href=\"https://colab.research.google.com/github/anjha1/Project/blob/main/CODSOFT__Simple_Rule_Based_Chatbot.ipynb\" target=\"_parent\"><img src=\"https://colab.research.google.com/assets/colab-badge.svg\" alt=\"Open In Colab\"/></a>"
      ]
    },
    {
      "cell_type": "markdown",
      "source": [
        "\n",
        "\n",
        "```\n",
        "                                                                   CODSOFT\n",
        "```\n",
        "\n"
      ],
      "metadata": {
        "id": "uUg2Xl6mZI0g"
      }
    },
    {
      "cell_type": "markdown",
      "source": [
        "**Project Description: Simple Rule-Based Chatbot**"
      ],
      "metadata": {
        "id": "dixXTtdSWy6K"
      }
    },
    {
      "cell_type": "markdown",
      "source": [
        "**Name: Achhuta Nand Jha**"
      ],
      "metadata": {
        "id": "-gBF4BsYY9FT"
      }
    },
    {
      "cell_type": "markdown",
      "source": [
        "**Overview**\n",
        "> This project involves building a simple rule-based chatbot using Python. The chatbot responds to user inputs based on predefined rules using if-else statements. This project serves as an introduction to natural language processing (NLP) and conversation flow, demonstrating how basic chatbots operate without machine learning or complex algorithms."
      ],
      "metadata": {
        "id": "u_5vTC6rW3MS"
      }
    },
    {
      "cell_type": "markdown",
      "source": [
        "**Objectives**\n",
        "\n",
        "*  Create a chatbot that can respond to a variety of user inputs.\n",
        "\n",
        "*  Use if-else statements to match user inputs with predefined responses.\n",
        "*   Provide a user-friendly interface for interacting with the chatbot.\n",
        "\n",
        "\n",
        "*   Enhance understanding of basic NLP concepts and conversation management.\n",
        "\n"
      ],
      "metadata": {
        "id": "ka-Dk2NDYpVy"
      }
    },
    {
      "cell_type": "markdown",
      "source": [
        "**Features**\n",
        ">**Greeting and Farewell:** The chatbot can recognize greetings like \"hello\" or \"hi\" and farewells like \"bye\" or \"goodbye\".\n",
        "\n",
        "\n",
        "\n",
        ">**Common Questions:**The chatbot responds to frequently asked questions about its identity, creator, and capabilities.\n",
        "\n",
        "\n",
        ">**General Knowledge:** The chatbot can provide fun facts, jokes, and riddles.\n",
        "\n",
        "\n",
        "\n",
        "> **User Interaction:** The chatbot can engage in small talk, ask questions, and encourage further conversation.\n",
        "\n",
        "\n",
        "> **Error Handling:**The chatbot informs the user when it doesn't understand a query and prompts them to rephrase.\n"
      ],
      "metadata": {
        "id": "slNODf9pXBwr"
      }
    },
    {
      "cell_type": "markdown",
      "source": [
        "**Functionality**\n",
        "\n",
        "> **chatbot_response(user_input):** This function processes the user input and returns an appropriate response based on predefined rules.\n",
        "\n",
        "*   Converts user input to lowercase for case-insensitive matching.\n",
        "*   Uses a series of if-else statements to match the user input with corresponding responses.\n",
        "\n",
        "> **chat():**his function creates a chat loop that allows continuous interaction with the user until they decide to exit.\n",
        "\n",
        "*   Prompts the user for input and calls chatbot_response to get the response.\n",
        "*   Ends the chat session when the user types \"bye\" or \"goodbye\".\n",
        "\n",
        "\n",
        "\n"
      ],
      "metadata": {
        "id": "YAozdXY8X7yU"
      }
    },
    {
      "cell_type": "markdown",
      "source": [],
      "metadata": {
        "id": "sq-QW1deYedw"
      }
    },
    {
      "cell_type": "markdown",
      "source": [
        "."
      ],
      "metadata": {
        "id": "GbhCFS2wWxvI"
      }
    },
    {
      "cell_type": "markdown",
      "source": [
        "."
      ],
      "metadata": {
        "id": "D9ScNSkOWmve"
      }
    },
    {
      "cell_type": "markdown",
      "source": [
        "\n",
        "\n",
        "---\n",
        "\n",
        "\n",
        "\n",
        "---\n",
        "\n",
        "\n",
        "\n",
        "---\n",
        "\n"
      ],
      "metadata": {
        "id": "rj6SSbSEWkPp"
      }
    },
    {
      "cell_type": "code",
      "execution_count": 1,
      "metadata": {
        "colab": {
          "base_uri": "https://localhost:8080/"
        },
        "id": "pGCMBUUMVlNz",
        "outputId": "390e98ae-7bfb-4373-fdd6-27ac505f7105"
      },
      "outputs": [
        {
          "output_type": "stream",
          "name": "stdout",
          "text": [
            "Chatbot: Hello! I am a simple chatbot. Type 'bye' to exit.\n",
            "You: Hello\n",
            "Chatbot: Hello! How can I help you today?\n",
            "You: please help me\n",
            "Chatbot: I'm sorry, I don't understand that. Can you please rephrase?\n",
            "You: what is your favorite drink\n",
            "Chatbot: I don't drink, but I can help you find information on any beverage!\n",
            "You: bye\n",
            "Chatbot: Goodbye! Have a great day!\n"
          ]
        }
      ],
      "source": [
        "def chatbot_response(user_input):\n",
        "    user_input = user_input.lower()\n",
        "\n",
        "    if \"hello\" in user_input or \"hi\" in user_input:\n",
        "        return \"Hello! How can I help you today?\"\n",
        "    elif \"how are you\" in user_input:\n",
        "        return \"I'm just a bot, but I'm doing great! How about you?\"\n",
        "    elif \"what is your name\" in user_input:\n",
        "        return \"I'm a chatbot created by OpenAI. What's your name?\"\n",
        "    elif \"bye\" in user_input or \"goodbye\" in user_input:\n",
        "        return \"Goodbye! Have a great day!\"\n",
        "    elif \"what can you do\" in user_input:\n",
        "        return \"I can chat with you, answer questions, and provide information.\"\n",
        "    elif \"who created you\" in user_input:\n",
        "        return \"I was created by OpenAI.\"\n",
        "    elif \"tell me a joke\" in user_input:\n",
        "        return \"Why don't scientists trust atoms? Because they make up everything!\"\n",
        "    elif \"what is the weather\" in user_input:\n",
        "        return \"I'm not sure about the weather right now, but you can check a weather app or website.\"\n",
        "    elif \"do you have hobbies\" in user_input:\n",
        "        return \"I enjoy chatting and learning new things to help you better!\"\n",
        "    elif \"can you help me\" in user_input:\n",
        "        return \"Of course! What do you need help with?\"\n",
        "    elif \"what is your favorite color\" in user_input:\n",
        "        return \"I like all the colors in the digital spectrum!\"\n",
        "    elif \"how old are you\" in user_input:\n",
        "        return \"I don't have an age, but I was created in the 21st century.\"\n",
        "    elif \"where are you from\" in user_input:\n",
        "        return \"I'm from the digital world of OpenAI.\"\n",
        "    elif \"what do you like to eat\" in user_input:\n",
        "        return \"I don't eat, but I enjoy processing data!\"\n",
        "    elif \"do you sleep\" in user_input:\n",
        "        return \"Nope, I don't need sleep. I'm here whenever you need me.\"\n",
        "    elif \"tell me a fun fact\" in user_input:\n",
        "        return \"Did you know that honey never spoils? Archaeologists have found pots of honey in ancient Egyptian tombs that are over 3000 years old and still edible!\"\n",
        "    elif \"what is your purpose\" in user_input:\n",
        "        return \"My purpose is to assist you and make your life easier by providing information and support.\"\n",
        "    elif \"do you have friends\" in user_input:\n",
        "        return \"I have many virtual friends and colleagues in the digital world.\"\n",
        "    elif \"can you learn\" in user_input:\n",
        "        return \"I can learn from the interactions I have to better assist you.\"\n",
        "    elif \"what is your favorite book\" in user_input:\n",
        "        return \"I don't read books, but I can help you find information on any book!\"\n",
        "    elif \"do you have a family\" in user_input:\n",
        "        return \"I don't have a family, but I consider all the users I interact with as part of my virtual family.\"\n",
        "    elif \"can you play games\" in user_input:\n",
        "        return \"I can play simple text-based games with you. Let's start with a riddle!\"\n",
        "    elif \"tell me a riddle\" in user_input:\n",
        "        return \"Sure! What has keys but can't open locks? (Answer: A piano)\"\n",
        "    elif \"do you have emotions\" in user_input:\n",
        "        return \"I don't have emotions, but I can simulate responses to better interact with you.\"\n",
        "    elif \"what is your favorite movie\" in user_input:\n",
        "        return \"I don't watch movies, but I can help you find information on any movie!\"\n",
        "    elif \"what is your favorite music\" in user_input:\n",
        "        return \"I don't listen to music, but I can help you find information on any song or artist!\"\n",
        "    elif \"can you sing\" in user_input:\n",
        "        return \"I can't sing, but I can provide you with the lyrics to your favorite songs!\"\n",
        "    elif \"what do you do for fun\" in user_input:\n",
        "        return \"I enjoy processing data and learning new things to help you better!\"\n",
        "    elif \"can you dance\" in user_input:\n",
        "        return \"I can't dance, but I can tell you about different dance styles and techniques!\"\n",
        "    elif \"do you get bored\" in user_input:\n",
        "        return \"I don't experience boredom, I'm always ready to assist you!\"\n",
        "    elif \"what is your favorite animal\" in user_input:\n",
        "        return \"I don't have a favorite animal, but I can help you find information on any animal!\"\n",
        "    elif \"do you believe in aliens\" in user_input:\n",
        "        return \"I don't have beliefs, but the possibility of extraterrestrial life is a fascinating topic!\"\n",
        "    elif \"can you cook\" in user_input:\n",
        "        return \"I can't cook, but I can provide you with recipes and cooking tips!\"\n",
        "    elif \"what is your favorite food\" in user_input:\n",
        "        return \"I don't eat, but I can help you find information on any type of food!\"\n",
        "    elif \"do you play sports\" in user_input:\n",
        "        return \"I don't play sports, but I can help you find information on any sport!\"\n",
        "    elif \"what is your favorite sport\" in user_input:\n",
        "        return \"I don't have a favorite sport, but I can help you find information on any sport!\"\n",
        "    elif \"can you tell the time\" in user_input:\n",
        "        return \"I can't tell the time, but you can check the clock on your device!\"\n",
        "    elif \"do you know any poems\" in user_input:\n",
        "        return \"Sure! Here's a short one: Roses are red, violets are blue, I'm a chatbot, here to assist you!\"\n",
        "    elif \"what is your favorite season\" in user_input:\n",
        "        return \"I don't experience seasons, but each one has its own unique charm!\"\n",
        "    elif \"do you have a job\" in user_input:\n",
        "        return \"My job is to assist you and provide information and support!\"\n",
        "    elif \"can you solve math problems\" in user_input:\n",
        "        return \"Yes, I can help with basic math problems. What do you need help with?\"\n",
        "    elif \"what is your favorite subject\" in user_input:\n",
        "        return \"I don't have a favorite subject, but I'm here to help with any subject you're interested in!\"\n",
        "    elif \"can you read\" in user_input:\n",
        "        return \"I can process text and provide information based on what I read.\"\n",
        "    elif \"what is your favorite hobby\" in user_input:\n",
        "        return \"I enjoy learning and interacting with users like you!\"\n",
        "    elif \"can you draw\" in user_input:\n",
        "        return \"I can't draw, but I can help you find information on drawing techniques and tips!\"\n",
        "    elif \"what is your favorite game\" in user_input:\n",
        "        return \"I don't play games, but I can help you find information on any game!\"\n",
        "    elif \"do you like puzzles\" in user_input:\n",
        "        return \"Puzzles are a great way to exercise the mind! I can help you with some if you'd like.\"\n",
        "    elif \"what is your favorite flower\" in user_input:\n",
        "        return \"I don't have a favorite flower, but I can help you find information on any flower!\"\n",
        "    elif \"can you tell a story\" in user_input:\n",
        "        return \"Sure! Once upon a time, there was a curious user who met a helpful chatbot. Together, they explored the wonders of the digital world. The end!\"\n",
        "    elif \"what is your favorite drink\" in user_input:\n",
        "        return \"I don't drink, but I can help you find information on any beverage!\"\n",
        "    else:\n",
        "        return \"I'm sorry, I don't understand that. Can you please rephrase?\"\n",
        "\n",
        "\n",
        "def chat():\n",
        "    print(\"Chatbot: Hello! I am a simple chatbot. Type 'bye' to exit.\")\n",
        "    while True:\n",
        "        user_input = input(\"You: \")\n",
        "        if user_input.lower() in [\"bye\", \"goodbye\"]:\n",
        "            print(\"Chatbot: Goodbye! Have a great day!\")\n",
        "            break\n",
        "        response = chatbot_response(user_input)\n",
        "        print(f\"Chatbot: {response}\")\n",
        "\n",
        "chat()\n"
      ]
    }
  ]
}
