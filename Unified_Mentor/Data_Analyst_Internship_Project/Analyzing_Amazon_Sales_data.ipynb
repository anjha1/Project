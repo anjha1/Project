{
  "nbformat": 4,
  "nbformat_minor": 0,
  "metadata": {
    "colab": {
      "provenance": [],
      "authorship_tag": "ABX9TyPTOzoYmO2C1Y4hlrkm+k+X",
      "include_colab_link": true
    },
    "kernelspec": {
      "name": "python3",
      "display_name": "Python 3"
    },
    "language_info": {
      "name": "python"
    }
  },
  "cells": [
    {
      "cell_type": "markdown",
      "metadata": {
        "id": "view-in-github",
        "colab_type": "text"
      },
      "source": [
        "<a href=\"https://colab.research.google.com/github/anjha1/Project/blob/main/Analyzing_Amazon_Sales_data.ipynb\" target=\"_parent\"><img src=\"https://colab.research.google.com/assets/colab-badge.svg\" alt=\"Open In Colab\"/></a>"
      ]
    },
    {
      "cell_type": "markdown",
      "source": [
        "**Project Title:**\n",
        "Analyzing Amazon Sales data"
      ],
      "metadata": {
        "id": "A7hd2dt3mMEb"
      }
    },
    {
      "cell_type": "markdown",
      "source": [
        "**Technologies:**\n",
        "Python"
      ],
      "metadata": {
        "id": "q23VH1ZpmSeQ"
      }
    },
    {
      "cell_type": "markdown",
      "source": [
        "**Domain:**\n",
        "E-commerce"
      ],
      "metadata": {
        "id": "O2vRxiaBmaFa"
      }
    },
    {
      "cell_type": "markdown",
      "source": [
        "**Problem Statement:**\n",
        "Sales management has gained importance to meet increasing competition and the need for improved methods of distribution to reduce cost and to increase profits. Sales management today is the most important function in a commercial and business enterprise."
      ],
      "metadata": {
        "id": "lRk5mmuEmey-"
      }
    },
    {
      "cell_type": "markdown",
      "source": [
        "**Dataset:**\n",
        "You can find the dataset on the given link [Download Data](https://drive.google.com/file/d/10sofXyF6NjwN6ngLyFfiPI-CUDpeqaN_/view)"
      ],
      "metadata": {
        "id": "h_WWUzlTmjaD"
      }
    },
    {
      "cell_type": "markdown",
      "source": [
        "**Approaches:**\n",
        "Python, We would appreciate your valid imagination in finding solutions."
      ],
      "metadata": {
        "id": "tmzcCaiJnR-0"
      }
    },
    {
      "cell_type": "markdown",
      "source": [
        "**Code and Implementation:**"
      ],
      "metadata": {
        "id": "CgWynyiRnnoB"
      }
    },
    {
      "cell_type": "code",
      "source": [
        "import pandas as pd"
      ],
      "metadata": {
        "id": "EOHHm5gVnpqw"
      },
      "execution_count": null,
      "outputs": []
    },
    {
      "cell_type": "markdown",
      "source": [
        "Load the dataset"
      ],
      "metadata": {
        "id": "dEh_l2Uhny0h"
      }
    },
    {
      "cell_type": "code",
      "source": [
        "data = pd.read_csv(\"/content/Amazon Sales data.csv\")"
      ],
      "metadata": {
        "id": "ueuRjm1_nnIQ"
      },
      "execution_count": null,
      "outputs": []
    },
    {
      "cell_type": "markdown",
      "source": [
        "Convert 'Order Date' to datetime format"
      ],
      "metadata": {
        "id": "ioyY1m8gn51T"
      }
    },
    {
      "cell_type": "code",
      "source": [
        "data['Order Date'] = pd.to_datetime(data['Order Date'])"
      ],
      "metadata": {
        "id": "ip-kMBamn-IK"
      },
      "execution_count": null,
      "outputs": []
    },
    {
      "cell_type": "markdown",
      "source": [
        "Extract month, year, and year-month from 'Order Date'"
      ],
      "metadata": {
        "id": "wQxVA7CHoCFI"
      }
    },
    {
      "cell_type": "code",
      "source": [
        "data['Order Month'] = data['Order Date'].dt.month\n",
        "data['Order Year'] = data['Order Date'].dt.year\n",
        "data['Order Year_Month'] = data['Order Date'].dt.to_period('M')"
      ],
      "metadata": {
        "id": "38y1xm_poGNE"
      },
      "execution_count": null,
      "outputs": []
    },
    {
      "cell_type": "markdown",
      "source": [
        "Calculate total profit"
      ],
      "metadata": {
        "id": "I6-utwdSobWw"
      }
    },
    {
      "cell_type": "code",
      "source": [
        "data['Total Profit'] = data['Total Revenue'] - data['Total Cost']"
      ],
      "metadata": {
        "id": "ZJA6JRQCocSv"
      },
      "execution_count": null,
      "outputs": []
    },
    {
      "cell_type": "markdown",
      "source": [
        "Aggregate sales data by month, year, and year-month"
      ],
      "metadata": {
        "id": "9Qkkz-FIoezT"
      }
    },
    {
      "cell_type": "code",
      "source": [
        "monthly_sales = data.groupby('Order Month')['Total Revenue'].sum()\n",
        "yearly_sales = data.groupby('Order Year')['Total Revenue'].sum()\n",
        "yearly_monthly_sales = data.groupby('Order Year_Month')['Total Revenue'].sum()"
      ],
      "metadata": {
        "id": "dirT_qQzoj7o"
      },
      "execution_count": null,
      "outputs": []
    },
    {
      "cell_type": "markdown",
      "source": [
        "Print unique counts of months, years, and yearly-months"
      ],
      "metadata": {
        "id": "YPHbPegHou_C"
      }
    },
    {
      "cell_type": "code",
      "source": [
        "month_unique_count = data['Order Month'].nunique()\n",
        "year_unique_count = data['Order Year'].nunique()\n",
        "year_month_unique_count = data['Order Year_Month'].nunique()\n",
        "\n",
        "print(f'Month unique count: {month_unique_count}')\n",
        "print(f'Year unique count: {year_unique_count}')\n",
        "print(f'Year_Month unique count: {year_month_unique_count}')"
      ],
      "metadata": {
        "colab": {
          "base_uri": "https://localhost:8080/"
        },
        "id": "1xUWH1bAougG",
        "outputId": "94135efd-932a-4301-a8e9-93d63fac43f4"
      },
      "execution_count": null,
      "outputs": [
        {
          "output_type": "stream",
          "name": "stdout",
          "text": [
            "Month unique count: 12\n",
            "Year unique count: 8\n",
            "Year_Month unique count: 60\n"
          ]
        }
      ]
    },
    {
      "cell_type": "markdown",
      "source": [
        "Create a dataframe to store sales trends"
      ],
      "metadata": {
        "id": "byjXkBCgozvv"
      }
    },
    {
      "cell_type": "code",
      "source": [
        "sales_trend = pd.DataFrame({\n",
        "    'Month': data['Order Month'].unique()[:min(month_unique_count, year_unique_count, year_month_unique_count)],\n",
        "    'Year': data['Order Year'].unique()[:min(month_unique_count, year_unique_count, year_month_unique_count)],\n",
        "    'Year_Month': data['Order Year_Month'].unique()[:min(month_unique_count, year_unique_count, year_month_unique_count)]\n",
        "})"
      ],
      "metadata": {
        "id": "BSq00ugdo9tf"
      },
      "execution_count": null,
      "outputs": []
    },
    {
      "cell_type": "markdown",
      "source": [
        "Calculate total sales for each category"
      ],
      "metadata": {
        "id": "Tqs46Q__pDWU"
      }
    },
    {
      "cell_type": "code",
      "source": [
        "sales_trend['Total Sales'] = data.groupby('Order Month')['Total Revenue'].sum()\n",
        "sales_trend['Total Sales_Year'] = data.groupby('Order Year')['Total Revenue'].sum()\n",
        "sales_trend['Total Sales_Year_Month'] = data.groupby('Order Year_Month')['Total Revenue'].sum()"
      ],
      "metadata": {
        "id": "8Ua4Tw10pEDb"
      },
      "execution_count": null,
      "outputs": []
    },
    {
      "cell_type": "markdown",
      "source": [
        "Display sales trends dataframe"
      ],
      "metadata": {
        "id": "O0JmDK1MpJWY"
      }
    },
    {
      "cell_type": "code",
      "source": [
        "print(sales_trend)"
      ],
      "metadata": {
        "colab": {
          "base_uri": "https://localhost:8080/"
        },
        "id": "9AKZfJZHpKJc",
        "outputId": "06479590-5823-458c-9cae-3d055baabcb9"
      },
      "execution_count": null,
      "outputs": [
        {
          "output_type": "stream",
          "name": "stdout",
          "text": [
            "   Month  Year Year_Month  Total Sales  Total Sales_Year  \\\n",
            "0      5  2010    2010-05          NaN               NaN   \n",
            "1      8  2012    2012-08  10482467.12               NaN   \n",
            "2      6  2014    2014-05  24740517.77               NaN   \n",
            "3      2  2013    2014-06   2274823.87               NaN   \n",
            "4      4  2015    2013-02  16187186.33               NaN   \n",
            "5      7  2011    2015-02  13215739.99               NaN   \n",
            "6      1  2017    2011-04   5230325.77               NaN   \n",
            "7     11  2016    2012-07  15669518.50               NaN   \n",
            "\n",
            "   Total Sales_Year_Month  \n",
            "0                     NaN  \n",
            "1                     NaN  \n",
            "2                     NaN  \n",
            "3                     NaN  \n",
            "4                     NaN  \n",
            "5                     NaN  \n",
            "6                     NaN  \n",
            "7                     NaN  \n"
          ]
        }
      ]
    },
    {
      "cell_type": "code",
      "source": [],
      "metadata": {
        "colab": {
          "base_uri": "https://localhost:8080/"
        },
        "id": "C4v1LVLHnjlj",
        "outputId": "dc7a0bc8-6a0b-4549-f904-f66fbea7a370"
      },
      "execution_count": null,
      "outputs": [
        {
          "output_type": "stream",
          "name": "stdout",
          "text": [
            "Month unique count: 12\n",
            "Year unique count: 8\n",
            "Year_Month unique count: 60\n",
            "   Month  Year Year_Month  Total Sales  Total Sales_Year  \\\n",
            "0      5  2010    2010-05          NaN               NaN   \n",
            "1      8  2012    2012-08  10482467.12               NaN   \n",
            "2      6  2014    2014-05  24740517.77               NaN   \n",
            "3      2  2013    2014-06   2274823.87               NaN   \n",
            "4      4  2015    2013-02  16187186.33               NaN   \n",
            "5      7  2011    2015-02  13215739.99               NaN   \n",
            "6      1  2017    2011-04   5230325.77               NaN   \n",
            "7     11  2016    2012-07  15669518.50               NaN   \n",
            "\n",
            "   Total Sales_Year_Month  \n",
            "0                     NaN  \n",
            "1                     NaN  \n",
            "2                     NaN  \n",
            "3                     NaN  \n",
            "4                     NaN  \n",
            "5                     NaN  \n",
            "6                     NaN  \n",
            "7                     NaN  \n"
          ]
        }
      ]
    },
    {
      "cell_type": "markdown",
      "source": [],
      "metadata": {
        "id": "QDJtHZvwm_qF"
      }
    },
    {
      "cell_type": "code",
      "source": [
        "import matplotlib.pyplot as plt"
      ],
      "metadata": {
        "id": "gJPOW1wImeWC"
      },
      "execution_count": null,
      "outputs": []
    },
    {
      "cell_type": "markdown",
      "source": [
        "Plotting with Matplotlib"
      ],
      "metadata": {
        "id": "ptxtVvMEpojT"
      }
    },
    {
      "cell_type": "code",
      "source": [
        "plt.figure(figsize=(12, 6))"
      ],
      "metadata": {
        "colab": {
          "base_uri": "https://localhost:8080/",
          "height": 53
        },
        "id": "4qstMBW-ppVH",
        "outputId": "f107d1d7-6b0c-4664-c8f5-259877d69185"
      },
      "execution_count": null,
      "outputs": [
        {
          "output_type": "execute_result",
          "data": {
            "text/plain": [
              "<Figure size 1200x600 with 0 Axes>"
            ]
          },
          "metadata": {},
          "execution_count": 42
        },
        {
          "output_type": "display_data",
          "data": {
            "text/plain": [
              "<Figure size 1200x600 with 0 Axes>"
            ]
          },
          "metadata": {}
        }
      ]
    },
    {
      "cell_type": "markdown",
      "source": [
        "Monthly Sales Trend"
      ],
      "metadata": {
        "id": "1k6MCV09p1Xd"
      }
    },
    {
      "cell_type": "code",
      "source": [
        "plt.subplot(2, 2, 1)\n",
        "monthly_sales.plot(kind='bar', color='skyblue')\n",
        "plt.title('Monthly Sales Trend')\n",
        "plt.xlabel('Month')\n",
        "plt.ylabel('Sales')"
      ],
      "metadata": {
        "colab": {
          "base_uri": "https://localhost:8080/",
          "height": 292
        },
        "id": "RpIB5LykptP6",
        "outputId": "e4f305da-dc3d-4d30-c79f-d84b70c2b83d"
      },
      "execution_count": null,
      "outputs": [
        {
          "output_type": "execute_result",
          "data": {
            "text/plain": [
              "Text(0, 0.5, 'Sales')"
            ]
          },
          "metadata": {},
          "execution_count": 43
        },
        {
          "output_type": "display_data",
          "data": {
            "text/plain": [
              "<Figure size 640x480 with 1 Axes>"
            ],
            "image/png": "[encoded data removed]"
          },
          "metadata": {}
        }
      ]
    },
    {
      "cell_type": "markdown",
      "source": [
        "Yearly Sales Trend"
      ],
      "metadata": {
        "id": "V5wwBezgp51j"
      }
    },
    {
      "cell_type": "code",
      "source": [
        "plt.subplot(2, 2, 2)\n",
        "yearly_sales.plot(kind='bar', color='lightgreen')\n",
        "plt.title('Yearly Sales Trend')\n",
        "plt.xlabel('Year')\n",
        "plt.ylabel('Sales')"
      ],
      "metadata": {
        "colab": {
          "base_uri": "https://localhost:8080/",
          "height": 309
        },
        "id": "ng95obhap8hV",
        "outputId": "c9bda44f-d660-482f-f80d-cca254be6368"
      },
      "execution_count": null,
      "outputs": [
        {
          "output_type": "execute_result",
          "data": {
            "text/plain": [
              "Text(0, 0.5, 'Sales')"
            ]
          },
          "metadata": {},
          "execution_count": 44
        },
        {
          "output_type": "display_data",
          "data": {
            "text/plain": [
              "<Figure size 640x480 with 1 Axes>"
            ],
            "image/png": "[encoded data removed]"
          },
          "metadata": {}
        }
      ]
    },
    {
      "cell_type": "markdown",
      "source": [
        "Yearly-Monthly Sales Trend"
      ],
      "metadata": {
        "id": "Gxp7fPymqBDb"
      }
    },
    {
      "cell_type": "code",
      "source": [
        "plt.subplot(2, 2, 3)\n",
        "yearly_monthly_sales.plot(kind='line', marker='o', color='orange')\n",
        "plt.title('Yearly-Monthly Sales Trend')\n",
        "plt.xlabel('Year-Month')\n",
        "plt.ylabel('Sales')\n",
        "\n",
        "plt.tight_layout()\n",
        "plt.show()"
      ],
      "metadata": {
        "colab": {
          "base_uri": "https://localhost:8080/",
          "height": 279
        },
        "id": "IJV3sL3pqAX-",
        "outputId": "0b97361c-0e2b-4807-dd56-55cf72b3ed2e"
      },
      "execution_count": null,
      "outputs": [
        {
          "output_type": "display_data",
          "data": {
            "text/plain": [
              "<Figure size 640x480 with 1 Axes>"
            ],
            "image/png": "[encoded data removed]"
          },
          "metadata": {}
        }
      ]
    }
  ]
}
