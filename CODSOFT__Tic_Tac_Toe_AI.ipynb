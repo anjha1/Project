{
  "nbformat": 4,
  "nbformat_minor": 0,
  "metadata": {
    "colab": {
      "provenance": [],
      "authorship_tag": "ABX9TyNLYecPHRmITOr5QP8R5HOa",
      "include_colab_link": true
    },
    "kernelspec": {
      "name": "python3",
      "display_name": "Python 3"
    },
    "language_info": {
      "name": "python"
    }
  },
  "cells": [
    {
      "cell_type": "markdown",
      "metadata": {
        "id": "view-in-github",
        "colab_type": "text"
      },
      "source": [
        "<a href=\"https://colab.research.google.com/github/anjha1/Project/blob/main/CODSOFT__Tic_Tac_Toe_AI.ipynb\" target=\"_parent\"><img src=\"https://colab.research.google.com/assets/colab-badge.svg\" alt=\"Open In Colab\"/></a>"
      ]
    },
    {
      "cell_type": "markdown",
      "source": [
        "\n",
        "\n",
        "```\n",
        "                                                                   CODSOFT\n",
        "```\n",
        "\n"
      ],
      "metadata": {
        "id": "uUg2Xl6mZI0g"
      }
    },
    {
      "cell_type": "markdown",
      "source": [
        "**Project Description: Tic-Tac-Toe AI**"
      ],
      "metadata": {
        "id": "TMwCcCj6g0Nv"
      }
    },
    {
      "cell_type": "markdown",
      "source": [
        "**Name: Achhuta Nand Jha**"
      ],
      "metadata": {
        "id": "-gBF4BsYY9FT"
      }
    },
    {
      "cell_type": "markdown",
      "source": [
        "**Overview**\n",
        "\n",
        "> This project involves building an AI agent that plays the classic game of Tic-Tac-Toe against a human player. The AI will use the Minimax algorithm, optionally enhanced with Alpha-Beta Pruning, to make optimal moves and ensure it is unbeatable. This project serves as an introduction to game theory and basic search algorithms, providing hands-on experience with implementing AI in a turn-based game setting.\n",
        "\n"
      ],
      "metadata": {
        "id": "-1cEGIIHgaUT"
      }
    },
    {
      "cell_type": "markdown",
      "source": [
        "**Objectives**\n",
        "\n",
        "*   Develop a Tic-Tac-Toe game that allows a human to play against an AI.\n",
        "\n",
        "*   Implement the Minimax algorithm to enable the AI to make optimal moves.\n",
        "*   Optionally incorporate Alpha-Beta Pruning to improve the efficiency of the AI's decision-making process.\n",
        "\n",
        "\n",
        "*   Understand and apply concepts of game theory and search algorithms.\n",
        "\n"
      ],
      "metadata": {
        "id": "fvEqU89CgM60"
      }
    },
    {
      "cell_type": "markdown",
      "source": [
        "**Features**\n",
        "\n",
        "*   **Human vs AI Gameplay:** The game allows a human player to compete against the AI.\n",
        "\n",
        "*   **Unbeatable AI:** The AI uses the Minimax algorithm to make optimal moves, ensuring it never loses.\n",
        "*  **Alpha-Beta Pruning (Optional):** Enhances the Minimax algorithm to reduce the number of nodes evaluated, improving performance.\n",
        "\n",
        "\n",
        "*   **Interactive Interface:** Simple text-based interface for playing the game.\n",
        "\n"
      ],
      "metadata": {
        "id": "IIVC-lBzfCOG"
      }
    },
    {
      "cell_type": "markdown",
      "source": [
        "**Functionality**\n",
        "\n",
        "*  **Game Board:** A 3x3 grid representing the Tic-Tac-Toe board.\n",
        "\n",
        "*   **Player Moves:** Human player chooses their moves by entering the position on the board.\n",
        "*   **AI Moves:** The AI calculates the best possible move using the Minimax algorithm.\n",
        "\n",
        "\n",
        "*   **Game Status:**The game checks for win, lose, or draw conditions after each move.\n",
        "\n"
      ],
      "metadata": {
        "id": "78dkHaFdfCFO"
      }
    },
    {
      "cell_type": "markdown",
      "source": [
        "**Minimax Algorithm**\n",
        "> The Minimax algorithm is a recursive algorithm used for decision-making in two-player games. It explores all possible moves to determine the optimal move for the AI, considering that the opponent will also play optimally.\n",
        "\n",
        "*   **Minimax Function:** Evaluates the board state and returns the best move for the AI.\n",
        "\n",
        "*   **Evaluation Function:** Scores the board state based on win, lose, or draw conditions.\n",
        "*   **Alpha-Beta Pruning (Optional):** Optimizes the Minimax algorithm by pruning branches that cannot influence the final decision.\n",
        "\n",
        "\n"
      ],
      "metadata": {
        "id": "MuzjmF7BfB8m"
      }
    },
    {
      "cell_type": "markdown",
      "source": [
        "."
      ],
      "metadata": {
        "id": "tWQJg76nfB4-"
      }
    },
    {
      "cell_type": "markdown",
      "source": [
        "."
      ],
      "metadata": {
        "id": "8c7vQZP9fByl"
      }
    },
    {
      "cell_type": "markdown",
      "source": [
        "\n",
        "\n",
        "---\n",
        "\n",
        "\n",
        "\n",
        "---\n",
        "\n",
        "\n",
        "\n",
        "---\n",
        "\n"
      ],
      "metadata": {
        "id": "5kK304Q4fBa8"
      }
    },
    {
      "cell_type": "code",
      "execution_count": 1,
      "metadata": {
        "colab": {
          "base_uri": "https://localhost:8080/"
        },
        "id": "3b3yh2o-eH3X",
        "outputId": "94b1740d-ad96-4b2f-c4df-441238b7ee91"
      },
      "outputs": [
        {
          "output_type": "stream",
          "name": "stdout",
          "text": [
            "Welcome to Tic-Tac-Toe!\n",
            "  |   |  \n",
            "---------\n",
            "  |   |  \n",
            "---------\n",
            "  |   |  \n",
            "Enter your move (1-9): 3\n",
            "  |   | X\n",
            "---------\n",
            "  |   |  \n",
            "---------\n",
            "  |   |  \n",
            "AI's move:\n",
            "  |   | X\n",
            "---------\n",
            "  | O |  \n",
            "---------\n",
            "  |   |  \n",
            "Enter your move (1-9): 2\n",
            "  | X | X\n",
            "---------\n",
            "  | O |  \n",
            "---------\n",
            "  |   |  \n",
            "AI's move:\n",
            "O | X | X\n",
            "---------\n",
            "  | O |  \n",
            "---------\n",
            "  |   |  \n",
            "Enter your move (1-9): 1\n",
            "Invalid move. Try again.\n",
            "Enter your move (1-9): 1\n",
            "Invalid move. Try again.\n",
            "Enter your move (1-9): 4\n",
            "O | X | X\n",
            "---------\n",
            "X | O |  \n",
            "---------\n",
            "  |   |  \n",
            "AI's move:\n",
            "O | X | X\n",
            "---------\n",
            "X | O |  \n",
            "---------\n",
            "  |   | O\n",
            "AI wins!\n"
          ]
        }
      ],
      "source": [
        "import math\n",
        "\n",
        "\n",
        "board = [' ' for _ in range(9)]\n",
        "\n",
        "\n",
        "def print_board():\n",
        "    for i in range(3):\n",
        "        print(board[3*i] + ' | ' + board[3*i+1] + ' | ' + board[3*i+2])\n",
        "        if i < 2:\n",
        "            print(\"---------\")\n",
        "\n",
        "\n",
        "def check_win(board, player):\n",
        "    win_conditions = [\n",
        "        [board[0], board[1], board[2]],\n",
        "        [board[3], board[4], board[5]],\n",
        "        [board[6], board[7], board[8]],\n",
        "        [board[0], board[3], board[6]],\n",
        "        [board[1], board[4], board[7]],\n",
        "        [board[2], board[5], board[8]],\n",
        "        [board[0], board[4], board[8]],\n",
        "        [board[2], board[4], board[6]]\n",
        "    ]\n",
        "    return [player, player, player] in win_conditions\n",
        "\n",
        "\n",
        "def check_draw(board):\n",
        "    return ' ' not in board\n",
        "\n",
        "\n",
        "def minimax(board, depth, is_maximizing, alpha, beta):\n",
        "    if check_win(board, 'O'):\n",
        "        return 1\n",
        "    if check_win(board, 'X'):\n",
        "        return -1\n",
        "    if check_draw(board):\n",
        "        return 0\n",
        "\n",
        "    if is_maximizing:\n",
        "        best_score = -math.inf\n",
        "        for i in range(9):\n",
        "            if board[i] == ' ':\n",
        "                board[i] = 'O'\n",
        "                score = minimax(board, depth + 1, False, alpha, beta)\n",
        "                board[i] = ' '\n",
        "                best_score = max(score, best_score)\n",
        "                alpha = max(alpha, score)\n",
        "                if beta <= alpha:\n",
        "                    break\n",
        "        return best_score\n",
        "    else:\n",
        "        best_score = math.inf\n",
        "        for i in range(9):\n",
        "            if board[i] == ' ':\n",
        "                board[i] = 'X'\n",
        "                score = minimax(board, depth + 1, True, alpha, beta)\n",
        "                board[i] = ' '\n",
        "                best_score = min(score, best_score)\n",
        "                beta = min(beta, score)\n",
        "                if beta <= alpha:\n",
        "                    break\n",
        "        return best_score\n",
        "\n",
        "\n",
        "def best_move(board):\n",
        "    best_score = -math.inf\n",
        "    move = 0\n",
        "    for i in range(9):\n",
        "        if board[i] == ' ':\n",
        "            board[i] = 'O'\n",
        "            score = minimax(board, 0, False, -math.inf, math.inf)\n",
        "            board[i] = ' '\n",
        "            if score > best_score:\n",
        "                best_score = score\n",
        "                move = i\n",
        "    return move\n",
        "\n",
        "\n",
        "def main():\n",
        "    print(\"Welcome to Tic-Tac-Toe!\")\n",
        "    print_board()\n",
        "\n",
        "    while True:\n",
        "\n",
        "        human_move = int(input(\"Enter your move (1-9): \")) - 1\n",
        "        if board[human_move] == ' ':\n",
        "            board[human_move] = 'X'\n",
        "            print_board()\n",
        "            if check_win(board, 'X'):\n",
        "                print(\"You win!\")\n",
        "                break\n",
        "            elif check_draw(board):\n",
        "                print(\"It's a draw!\")\n",
        "                break\n",
        "\n",
        "            # AI move\n",
        "            ai_move = best_move(board)\n",
        "            board[ai_move] = 'O'\n",
        "            print(\"AI's move:\")\n",
        "            print_board()\n",
        "            if check_win(board, 'O'):\n",
        "                print(\"AI wins!\")\n",
        "                break\n",
        "            elif check_draw(board):\n",
        "                print(\"It's a draw!\")\n",
        "                break\n",
        "        else:\n",
        "            print(\"Invalid move. Try again.\")\n",
        "\n",
        "if __name__ == \"__main__\":\n",
        "    main()\n"
      ]
    },
    {
      "cell_type": "markdown",
      "source": [
        "**Conclusion**\n",
        "> This project provides a practical introduction to game theory and search algorithms through the implementation of an unbeatable Tic-Tac-Toe AI. By understanding and applying the Minimax algorithm and optionally enhancing it with Alpha-Beta Pruning, you gain valuable insights into AI decision-making processes and optimization techniques."
      ],
      "metadata": {
        "id": "RQboqDJpg56v"
      }
    }
  ]
}